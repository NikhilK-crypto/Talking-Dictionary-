{
 "cells": [
  {
   "cell_type": "code",
   "execution_count": 1,
   "metadata": {},
   "outputs": [],
   "source": [
    "#Packages required for our project \n",
    "import pyttsx3 #text-to-speech conversion library\n",
    "import PyDictionary #PyDictionary is a Dictionary Module\n",
    "import enchant #Enchant is used to check the spelling of words and suggest corrections for words that are miss-spelled\n",
    "import sys"
   ]
  },
  {
   "cell_type": "code",
   "execution_count": 2,
   "metadata": {},
   "outputs": [],
   "source": [
    "#Selection of TSS Engine\n",
    "engine = pyttsx3.init('sapi5')\n",
    "\n",
    "#Selectoin of voice(Male for Female)\n",
    "voices = engine.getProperty('voices')\n",
    "engine.setProperty('voice', voices[1].id) #voice[0] for male voice[1] for female \n",
    "\n",
    "#Selection of Rate of voice\n",
    "rate = engine.getProperty('rate')   \n",
    "engine.setProperty('rate', 200)"
   ]
  },
  {
   "cell_type": "code",
   "execution_count": 3,
   "metadata": {},
   "outputs": [],
   "source": [
    "#dictionary function\n",
    "dictionary=PyDictionary.PyDictionary()"
   ]
  },
  {
   "cell_type": "code",
   "execution_count": 4,
   "metadata": {},
   "outputs": [],
   "source": [
    "#selecting a language \n",
    "word = enchant.Dict(\"en_US\")"
   ]
  },
  {
   "cell_type": "code",
   "execution_count": 5,
   "metadata": {},
   "outputs": [],
   "source": [
    "#function to convert input into audio \n",
    "def speak(audio):\n",
    "    engine.say(audio)\n",
    "    engine.runAndWait()"
   ]
  },
  {
   "cell_type": "code",
   "execution_count": 6,
   "metadata": {},
   "outputs": [],
   "source": [
    "#function to ask user if they want to check meaning of new word\n",
    "def Ask():\n",
    "            print(\"Do you want to Search a new word? \\n y/n\")\n",
    "            speak(\"Do you want to Search a new word?\")\n",
    "        \n",
    "            z=input('>')\n",
    "            if (z=='y'):\n",
    "                x= input('Enter a new word: ')    \n",
    "                Dict(x)\n",
    "\n",
    "            else:\n",
    "                sys.exit()"
   ]
  },
  {
   "cell_type": "code",
   "execution_count": 7,
   "metadata": {},
   "outputs": [],
   "source": [
    "#function where user input is searched and output is given \n",
    "def Dict(x):\n",
    "    x.lower()\n",
    "    y=word.check(x)\n",
    "    \n",
    "    if (y==False):\n",
    "        print(\"you have entered a wrong word or did a spelling mistake\")\n",
    "        speak(\"you have entered a wrong word or did a spelling mistake\")\n",
    "\n",
    "        speak('This are some suggestions')\n",
    "        print(word.suggest(x))\n",
    "\n",
    "        Ask()\n",
    "        \n",
    "    else:\n",
    "        x=dictionary.meaning(x)\n",
    "        for i in x:\n",
    "            print(i)\n",
    "            speak(i)\n",
    "            for j in x[i]:\n",
    "                print(j)\n",
    "                speak(j)\n",
    "        Ask()"
   ]
  },
  {
   "cell_type": "code",
   "execution_count": 8,
   "metadata": {},
   "outputs": [
    {
     "name": "stdout",
     "output_type": "stream",
     "text": [
      "Enter a word: action\n",
      "action\n",
      "Noun\n",
      "something done (usually as opposed to something said\n",
      "the state of being active\n",
      "a military engagement\n",
      "a process existing in or produced by nature (rather than by the intent of human beings\n",
      "the series of events that form a plot\n",
      "the trait of being active and energetic and forceful\n",
      "the operating part that transmits power to a mechanism\n",
      "a judicial proceeding brought by one party against another; one party prosecutes another for a wrong done or for protection of a right or for prevention of a wrong\n",
      "an act by a government body or supranational organization\n",
      "the most important or interesting work or activity in a specific area or field\n",
      "Verb\n",
      "institute legal proceedings against; file a suit against\n",
      "put in effect\n",
      "Do you want to Search a new word? \n",
      " y/n\n",
      ">n\n"
     ]
    },
    {
     "ename": "SystemExit",
     "evalue": "",
     "output_type": "error",
     "traceback": [
      "An exception has occurred, use %tb to see the full traceback.\n",
      "\u001b[1;31mSystemExit\u001b[0m\n"
     ]
    },
    {
     "name": "stderr",
     "output_type": "stream",
     "text": [
      "P:\\anaconda3\\lib\\site-packages\\IPython\\core\\interactiveshell.py:3426: UserWarning: To exit: use 'exit', 'quit', or Ctrl-D.\n",
      "  warn(\"To exit: use 'exit', 'quit', or Ctrl-D.\", stacklevel=1)\n"
     ]
    }
   ],
   "source": [
    "speak('Hello i am talking Dictionary')        \n",
    "speak('Please Enter a word')\n",
    "x= input('Enter a word: ')\n",
    "speak(x)\n",
    "print(x)\n",
    "Dict(x)"
   ]
  },
  {
   "cell_type": "code",
   "execution_count": null,
   "metadata": {},
   "outputs": [],
   "source": []
  }
 ],
 "metadata": {
  "kernelspec": {
   "display_name": "Python 3",
   "language": "python",
   "name": "python3"
  },
  "language_info": {
   "codemirror_mode": {
    "name": "ipython",
    "version": 3
   },
   "file_extension": ".py",
   "mimetype": "text/x-python",
   "name": "python",
   "nbconvert_exporter": "python",
   "pygments_lexer": "ipython3",
   "version": "3.8.5"
  }
 },
 "nbformat": 4,
 "nbformat_minor": 4
}
